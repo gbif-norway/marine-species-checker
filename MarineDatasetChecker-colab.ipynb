{
  "nbformat": 4,
  "nbformat_minor": 5,
  "metadata": {
    "kernelspec": {
      "display_name": "Python 3",
      "language": "python",
      "name": "python3"
    },
    "language_info": {
      "codemirror_mode": {
        "name": "ipython",
        "version": 3
      },
      "file_extension": ".py",
      "mimetype": "text/x-python",
      "name": "python",
      "nbconvert_exporter": "python",
      "pygments_lexer": "ipython3",
      "version": "3.9.2"
    },
    "colab": {
      "name": "MarineDatasetChecker.ipynb",
      "provenance": [],
      "collapsed_sections": [],
      "include_colab_link": true
    }
  },
  "cells": [
    {
      "cell_type": "markdown",
      "metadata": {
        "id": "view-in-github",
        "colab_type": "text"
      },
      "source": [
        "<a href=\"https://colab.research.google.com/github/gbif-norway/marine-species-checker/blob/main/MarineDatasetChecker-colab.ipynb\" target=\"_parent\"><img src=\"https://colab.research.google.com/assets/colab-badge.svg\" alt=\"Open In Colab\"/></a>"
      ]
    },
    {
      "cell_type": "code",
      "metadata": {
        "id": "lZaIKMJiUDSI"
      },
      "source": [
        "!pip install git+git://github.com/iobis/pyworms.git pygbif"
      ],
      "id": "lZaIKMJiUDSI",
      "execution_count": null,
      "outputs": []
    },
    {
      "cell_type": "code",
      "metadata": {
        "id": "412e1e64"
      },
      "source": [
        "from pygbif import occurrences as occ\n",
        "import pandas as pd\n",
        "import pyworms"
      ],
      "id": "412e1e64",
      "execution_count": null,
      "outputs": []
    },
    {
      "cell_type": "code",
      "metadata": {
        "id": "94911e6a"
      },
      "source": [
        "# Insert your dataset's key\n",
        "dataset_key = 'd391c193-0fc0-4a96-bdac-6043dd9516d1'"
      ],
      "id": "94911e6a",
      "execution_count": null,
      "outputs": []
    },
    {
      "cell_type": "code",
      "metadata": {
        "id": "b01fd51a"
      },
      "source": [
        "occs = occ.search(datasetKey=dataset_key)  # The first 300 occurrences\n",
        "offset = 0\n",
        "all_occs = []\n",
        "\n",
        "# Loop to continuously fetch 300 occurrences from GBIF until we have run out of occurrences to check \n",
        "while occs['count'] > offset:\n",
        "    current_set = []\n",
        "    for x in occs['results']:\n",
        "        record = {'id': x['occurrenceID']}\n",
        "        # We want to check to see if the scientificNameID is already present for each record\n",
        "        record['oldlsid'] = x['scientificNameID'] if 'scientificNameID' in x else None\n",
        "        if 'species' in x:\n",
        "            record['sn'] = x['species']\n",
        "        elif 'genus' in x:\n",
        "            record['sn'] = x['genus']\n",
        "        elif 'family' in x:\n",
        "            record['sn'] = x['family']\n",
        "        elif 'order' in x:\n",
        "            record['sn'] = x['order']\n",
        "        else:\n",
        "            record['sn'] = x['scientificName']\n",
        "        current_set.append(record)\n",
        "    \n",
        "    # Match the 300 records against WoRMS and add the LSID\n",
        "    worms = pyworms.aphiaRecordsByMatchNames([x['sn'] for x in current_set], marine_only=True)\n",
        "    for i in range(len(current_set)):\n",
        "        if len(worms[i]) and 'lsid' in worms[i][0]:\n",
        "            current_set[i]['lsid'] = worms[i][0]['lsid']\n",
        "        else:\n",
        "            current_set[i]['lsid'] = None\n",
        "    all_occs.extend(current_set)\n",
        "    offset += 300\n",
        "    occs = occ.search(datasetKey=dataset_key, offset=offset)"
      ],
      "id": "b01fd51a",
      "execution_count": null,
      "outputs": []
    },
    {
      "cell_type": "code",
      "metadata": {
        "id": "7f5e74d2"
      },
      "source": [
        "# all_occs now also holds the relevant WoRMS LSID data\n",
        "data = pd.DataFrame(all_occs)"
      ],
      "id": "7f5e74d2",
      "execution_count": null,
      "outputs": []
    },
    {
      "cell_type": "code",
      "metadata": {
        "colab": {
          "base_uri": "https://localhost:8080/",
          "height": 35
        },
        "id": "16bee102",
        "outputId": "d5584605-48ef-4c69-cbcd-1927d1df427a"
      },
      "source": [
        "count = data['lsid'].count()\n",
        "perc = (data['lsid'].count() / len(data)) * 100\n",
        "'Number of records with a match in WoRMS: {}, ({}% of total)'.format(count, perc)"
      ],
      "id": "16bee102",
      "execution_count": null,
      "outputs": [
        {
          "output_type": "execute_result",
          "data": {
            "application/vnd.google.colaboratory.intrinsic+json": {
              "type": "string"
            },
            "text/plain": [
              "'Number of records with a match in WoRMS: 1016, (100.0% of total)'"
            ]
          },
          "metadata": {
            "tags": []
          },
          "execution_count": 7
        }
      ]
    },
    {
      "cell_type": "code",
      "metadata": {
        "id": "b68c28da",
        "colab": {
          "base_uri": "https://localhost:8080/",
          "height": 35
        },
        "outputId": "5b74cdc4-af76-4b0c-876a-fdfee0824f65"
      },
      "source": [
        "count = data['oldlsid'].count()\n",
        "perc = (data['oldlsid'].count() / len(data)) * 100\n",
        "'Number of records which already have a WoRMS LSID in scientificNameID: {}, ({}% of total)'.format(count, perc)"
      ],
      "id": "b68c28da",
      "execution_count": null,
      "outputs": [
        {
          "output_type": "execute_result",
          "data": {
            "application/vnd.google.colaboratory.intrinsic+json": {
              "type": "string"
            },
            "text/plain": [
              "'Number of records which already have a WoRMS LSID in scientificNameID: 0, (0.0% of total)'"
            ]
          },
          "metadata": {
            "tags": []
          },
          "execution_count": 8
        }
      ]
    },
    {
      "cell_type": "code",
      "metadata": {
        "id": "527e888b"
      },
      "source": [
        "from google.colab import  drive"
      ],
      "id": "527e888b",
      "execution_count": null,
      "outputs": []
    },
    {
      "cell_type": "code",
      "metadata": {
        "id": "HD5ES8KTwhdo",
        "colab": {
          "base_uri": "https://localhost:8080/"
        },
        "outputId": "14d02e0a-49f7-468a-c202-f799b56e4f7a"
      },
      "source": [
        "drive.mount('/drive')"
      ],
      "id": "HD5ES8KTwhdo",
      "execution_count": null,
      "outputs": [
        {
          "output_type": "stream",
          "text": [
            "Mounted at /drive\n"
          ],
          "name": "stdout"
        }
      ]
    },
    {
      "cell_type": "code",
      "metadata": {
        "id": "2bf9bd50"
      },
      "source": [
        "# Write to csv for download\n",
        "data.to_csv('/drive/My Drive/output.csv', index=False)"
      ],
      "id": "2bf9bd50",
      "execution_count": null,
      "outputs": []
    }
  ]
}