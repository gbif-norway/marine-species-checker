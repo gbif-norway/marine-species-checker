{
 "cells": [
  {
   "cell_type": "code",
   "execution_count": 1,
   "id": "412e1e64",
   "metadata": {},
   "outputs": [],
   "source": [
    "!pip install -r https://raw.githubusercontent.com/gbif-norway/marine-species-checker/main/requirements.txt\n",
    "from pygbif import occurrences as occ\n",
    "import pandas as pd\n",
    "import pyworms"
   ]
  },
  {
   "cell_type": "code",
   "execution_count": 2,
   "id": "94911e6a",
   "metadata": {},
   "outputs": [],
   "source": [
    "# Insert your dataset's key\n",
    "dataset_key = 'd391c193-0fc0-4a96-bdac-6043dd9516d1'"
   ]
  },
  {
   "cell_type": "code",
   "execution_count": 3,
   "id": "b01fd51a",
   "metadata": {},
   "outputs": [],
   "source": [
    "occs = occ.search(datasetKey=dataset_key)  # The first 300 occurrences\n",
    "offset = 0\n",
    "all_occs = []\n",
    "\n",
    "# Loop to continuously fetch 300 occurrences from GBIF until we have run out of occurrences to check \n",
    "while occs['count'] > offset:\n",
    "    current_set = []\n",
    "    for x in occs['results']:\n",
    "        record = {'id': x['occurrenceID']}\n",
    "        # We want to check to see if the scientificNameID is already present for each record\n",
    "        record['oldlsid'] = x['scientificNameID'] if 'scientificNameID' in x else None\n",
    "        if 'species' in x:\n",
    "            record['sn'] = x['species']\n",
    "        elif 'genus' in x:\n",
    "            record['sn'] = x['genus']\n",
    "        elif 'family' in x:\n",
    "            record['sn'] = x['family']\n",
    "        elif 'order' in x:\n",
    "            record['sn'] = x['order']\n",
    "        else:\n",
    "            record['sn'] = x['scientificName']\n",
    "        current_set.append(record)\n",
    "    \n",
    "    # Match the 300 records against WoRMS and add the LSID\n",
    "    worms = pyworms.aphiaRecordsByMatchNames([x['sn'] for x in current_set], marine_only=True)\n",
    "    for i in range(len(current_set)):\n",
    "        if len(worms[i]) and 'lsid' in worms[i][0]:\n",
    "            current_set[i]['lsid'] = worms[i][0]['lsid']\n",
    "        else:\n",
    "            current_set[i]['lsid'] = None\n",
    "    all_occs.extend(current_set)\n",
    "    offset += 300\n",
    "    occs = occ.search(datasetKey=dataset_key, offset=offset)"
   ]
  },
  {
   "cell_type": "code",
   "execution_count": 6,
   "id": "7f5e74d2",
   "metadata": {},
   "outputs": [],
   "source": [
    "# all_occs now also holds the relevant WoRMS LSID data\n",
    "data = pd.DataFrame(all_occs)"
   ]
  },
  {
   "cell_type": "code",
   "execution_count": 8,
   "id": "16bee102",
   "metadata": {},
   "outputs": [
    {
     "data": {
      "text/plain": [
       "'Number of records with a match in WoRMS: 1016, (100.0% of total)'"
      ]
     },
     "execution_count": 8,
     "metadata": {},
     "output_type": "execute_result"
    }
   ],
   "source": [
    "count = data['lsid'].count()\n",
    "perc = (data['lsid'].count() / len(data)) * 100\n",
    "'Number of records with a match in WoRMS: {}, ({}% of total)'.format(count, perc)"
   ]
  },
  {
   "cell_type": "code",
   "execution_count": 9,
   "id": "b68c28da",
   "metadata": {},
   "outputs": [
    {
     "data": {
      "text/plain": [
       "'Number of records which already have a WoRMS LSID in scientificNameID: 0, (0.0% of total)'"
      ]
     },
     "execution_count": 9,
     "metadata": {},
     "output_type": "execute_result"
    }
   ],
   "source": [
    "count = data['oldlsid'].count()\n",
    "perc = (data['oldlsid'].count() / len(data)) * 100\n",
    "'Number of records which already have a WoRMS LSID in scientificNameID: {}, ({}% of total)'.format(count, perc)"
   ]
  },
  {
   "cell_type": "code",
   "execution_count": 15,
   "id": "2bf9bd50",
   "metadata": {},
   "outputs": [],
   "source": [
    "# Write to csv for download\n",
    "data.to_csv('./output.csv', index=False)"
   ]
  },
  {
   "cell_type": "code",
   "execution_count": null,
   "id": "527e888b",
   "metadata": {},
   "outputs": [],
   "source": []
  }
 ],
 "metadata": {
  "kernelspec": {
   "display_name": "Python 3",
   "language": "python",
   "name": "python3"
  },
  "language_info": {
   "codemirror_mode": {
    "name": "ipython",
    "version": 3
   },
   "file_extension": ".py",
   "mimetype": "text/x-python",
   "name": "python",
   "nbconvert_exporter": "python",
   "pygments_lexer": "ipython3",
   "version": "3.9.2"
  }
 },
 "nbformat": 4,
 "nbformat_minor": 5
}
